{
 "cells": [
  {
   "cell_type": "code",
   "execution_count": 120,
   "metadata": {},
   "outputs": [],
   "source": [
    "from palmerpenguins import load_penguins\n",
    "import matplotlib.pyplot as plt\n",
    "from collections import Counter\n",
    "import numpy as np\n",
    "from sklearn.pipeline import Pipeline\n",
    "from sklearn.preprocessing import OneHotEncoder, LabelEncoder\n",
    "from sklearn.impute import SimpleImputer\n",
    "from imblearn import FunctionSampler\n",
    "from sklearn.base import BaseEstimator, TransformerMixin\n",
    "import scipy\n",
    "import pandas as pd\n",
    "\n",
    "from collections import defaultdict\n",
    "d = defaultdict(LabelEncoder)"
   ]
  },
  {
   "cell_type": "code",
   "execution_count": 59,
   "metadata": {},
   "outputs": [
    {
     "name": "stdout",
     "output_type": "stream",
     "text": [
      "60.300680966341 27.543178682781807\n"
     ]
    }
   ],
   "source": [
    "df = load_penguins()\n",
    "# Find unbalanced class\n",
    "Counter(df[\"island\"])\n",
    "# Count missing values\n",
    "df.isnull().sum(axis=1)\n",
    "#OnehotEncode categorical values\n",
    "categorical_transformer = Pipeline(steps=[(\"encoder\", OneHotEncoder(handle_unknown=\"ignore\"))])\n",
    "cate = categorical_transformer.fit(df)\n",
    "\n",
    "# print(new_df)\n",
    "# Outlier values\n",
    "upper_limit = df[\"bill_length_mm\"].mean() + 3 * df[\"bill_length_mm\"].std()\n",
    "lower_limit = df[\"bill_length_mm\"].mean() - 3 * df[\"bill_length_mm\"].std()\n",
    "print(upper_limit, lower_limit)"
   ]
  },
  {
   "cell_type": "code",
   "execution_count": 41,
   "metadata": {},
   "outputs": [
    {
     "data": {
      "text/plain": [
       "Counter({'Biscoe': 168, 'Dream': 124, 'Torgersen': 52})"
      ]
     },
     "execution_count": 41,
     "metadata": {},
     "output_type": "execute_result"
    }
   ],
   "source": [
    "Counter(df[\"island\"])"
   ]
  },
  {
   "cell_type": "code",
   "execution_count": 14,
   "metadata": {},
   "outputs": [
    {
     "data": {
      "text/plain": [
       "array([0, 0, 0, 5, 0, 0, 0, 0, 1, 1, 1, 1, 0, 0, 0, 0, 0, 0, 0, 0, 0, 0,\n",
       "       0, 0, 0, 0, 0, 0, 0, 0, 0, 0, 0, 0, 0, 0, 0, 0, 0, 0, 0, 0, 0, 0,\n",
       "       0, 0, 0, 1, 0, 0, 0, 0, 0, 0, 0, 0, 0, 0, 0, 0, 0, 0, 0, 0, 0, 0,\n",
       "       0, 0, 0, 0, 0, 0, 0, 0, 0, 0, 0, 0, 0, 0, 0, 0, 0, 0, 0, 0, 0, 0,\n",
       "       0, 0, 0, 0, 0, 0, 0, 0, 0, 0, 0, 0, 0, 0, 0, 0, 0, 0, 0, 0, 0, 0,\n",
       "       0, 0, 0, 0, 0, 0, 0, 0, 0, 0, 0, 0, 0, 0, 0, 0, 0, 0, 0, 0, 0, 0,\n",
       "       0, 0, 0, 0, 0, 0, 0, 0, 0, 0, 0, 0, 0, 0, 0, 0, 0, 0, 0, 0, 0, 0,\n",
       "       0, 0, 0, 0, 0, 0, 0, 0, 0, 0, 0, 0, 0, 0, 0, 0, 0, 0, 0, 0, 0, 0,\n",
       "       0, 0, 1, 0, 0, 0, 0, 0, 0, 0, 0, 0, 0, 0, 0, 0, 0, 0, 0, 0, 0, 0,\n",
       "       0, 0, 0, 0, 0, 0, 0, 0, 0, 0, 0, 0, 0, 0, 0, 0, 0, 0, 0, 0, 1, 0,\n",
       "       0, 0, 0, 0, 0, 0, 0, 0, 0, 0, 0, 0, 0, 0, 0, 0, 0, 0, 0, 0, 0, 0,\n",
       "       0, 0, 0, 0, 0, 0, 0, 0, 0, 0, 0, 0, 0, 0, 1, 0, 0, 0, 0, 0, 0, 0,\n",
       "       0, 0, 0, 0, 1, 0, 0, 5, 0, 0, 0, 0, 0, 0, 0, 0, 0, 0, 0, 0, 0, 0,\n",
       "       0, 0, 0, 0, 0, 0, 0, 0, 0, 0, 0, 0, 0, 0, 0, 0, 0, 0, 0, 0, 0, 0,\n",
       "       0, 0, 0, 0, 0, 0, 0, 0, 0, 0, 0, 0, 0, 0, 0, 0, 0, 0, 0, 0, 0, 0,\n",
       "       0, 0, 0, 0, 0, 0, 0, 0, 0, 0, 0, 0, 0, 0], dtype=int64)"
      ]
     },
     "execution_count": 14,
     "metadata": {},
     "output_type": "execute_result"
    }
   ],
   "source": [
    "r = df.isnull().sum(axis=1)\n",
    "np.array(r)"
   ]
  },
  {
   "cell_type": "markdown",
   "metadata": {},
   "source": [
    "Extract the data and target from the DataFrame"
   ]
  },
  {
   "cell_type": "code",
   "execution_count": 132,
   "metadata": {},
   "outputs": [],
   "source": [
    "X_cate = df.loc[:, ['island','sex','year']]\n",
    "X_num = df.loc[:, 'bill_length_mm':'body_mass_g']\n",
    "y_data = df.loc[:, ['species']]"
   ]
  },
  {
   "cell_type": "code",
   "execution_count": 112,
   "metadata": {},
   "outputs": [],
   "source": [
    "\n",
    "class MyCustomTransformer(BaseEstimator):\n",
    "    def __init__(self, hp=None):\n",
    "        self.hp = hp\n",
    "        self.row_null = None\n",
    "    def fit(self, X, y=None):\n",
    "        try:\n",
    "            # Get the categoritics with too many missing values by row\n",
    "            num_of_null = X.isnull().sum(axis=1)\n",
    "            self.row_null = list(num_of_null[num_of_null/len(X.columns) >= 0.1].index)\n",
    "        except Exception as e:\n",
    "            print(e)\n",
    "        finally:\n",
    "            return self\n",
    "\n",
    "    def transform(self, X, y=None):\n",
    "        try:\n",
    "            # Remove the categoritics with too many missing values\n",
    "            X_tmp = X.drop(self.row_null)\n",
    "            y_tmp = y.drop(self.row_null)\n",
    "            # Fill the missing value with the categoritics have fewer missing values\n",
    "            imp = SimpleImputer(missing_values = np.nan, strategy = 'most_frequent')\n",
    "            imp.fit(X_tmp)\n",
    "\n",
    "            # Use OneHotEncoder to the categorical data\n",
    "            encoder = OneHotEncoder(dtype='int', handle_unknown='ignore')\n",
    "            X_raw = encoder.fit_transform(X_tmp.loc[:, ['island','sex','year']])\n",
    "            y_raw = encoder.fit_transform(y_tmp)\n",
    "        except Exception as e:\n",
    "            print(e)\n",
    "        finally:\n",
    "            return X_raw, y_raw"
   ]
  },
  {
   "cell_type": "code",
   "execution_count": 118,
   "metadata": {},
   "outputs": [],
   "source": [
    "custom_transform = MyCustomTransformer()\n",
    "custom_transform.fit(X_cate, y_data)\n",
    "X_cate_new, y_new = custom_transform.transform(X_cate, y_data)\n",
    "a = y_new.toarray()"
   ]
  },
  {
   "cell_type": "code",
   "execution_count": 135,
   "metadata": {},
   "outputs": [],
   "source": [
    "\n",
    "z = np.abs(scipy.stats.zscore(X_num, nan_policy='omit'))\n",
    "a = X_num[z<=1]\n",
    "c = a[~a.isnull().any(axis=1)]"
   ]
  },
  {
   "cell_type": "code",
   "execution_count": null,
   "metadata": {},
   "outputs": [],
   "source": [
    "class MyCustomSampler(BaseEstimator):\n",
    "    def __init__(self, strategy):\n",
    "        self.strategy = strategy\n",
    "\n",
    "    def fit_resample(self, X, y=None):\n",
    "        if(self.strategy == 'z_score'):\n",
    "            z = np.abs(scipy.stats.zscore(X, nan_policy='omit'))\n",
    "            X_tmp = X[z <= 3 and z >= -3]\n",
    "        elif(self.strategy == 'IQR'):\n",
    "            \n",
    "        else:\n",
    "            print(\"Invalid strategy\")\n",
    "        return X, y\n"
   ]
  }
 ],
 "metadata": {
  "kernelspec": {
   "display_name": "Python 3",
   "language": "python",
   "name": "python3"
  },
  "language_info": {
   "codemirror_mode": {
    "name": "ipython",
    "version": 3
   },
   "file_extension": ".py",
   "mimetype": "text/x-python",
   "name": "python",
   "nbconvert_exporter": "python",
   "pygments_lexer": "ipython3",
   "version": "3.10.0"
  }
 },
 "nbformat": 4,
 "nbformat_minor": 2
}
