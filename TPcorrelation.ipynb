{
 "cells": [
  {
   "cell_type": "markdown",
   "metadata": {
    "id": "2IHKaizCnHLW"
   },
   "source": [
    "# Image processing Lab: correlation and pattern matching\n",
    "## DS&AI - 2023-24\n",
    "### Translated from Diane Lingrand (Diane.Lingrand@univ-cotedazur.fr)"
   ]
  },
  {
   "cell_type": "code",
   "execution_count": null,
   "metadata": {
    "id": "U0YiemaxnHLY"
   },
   "outputs": [],
   "source": [
    "from skimage import io\n",
    "from skimage import data\n",
    "from skimage import transform\n",
    "from skimage.color import rgb2gray\n",
    "import numpy as np\n",
    "from matplotlib import pyplot as plt\n",
    "from matplotlib.patches import Circle\n",
    "import math"
   ]
  },
  {
   "cell_type": "code",
   "execution_count": null,
   "metadata": {
    "id": "mlh2o6tWnHLZ"
   },
   "outputs": [],
   "source": [
    "%matplotlib inline"
   ]
  },
  {
   "cell_type": "markdown",
   "metadata": {
    "id": "th2-ZCvTnHLZ"
   },
   "source": [
    "## Cross Correlation"
   ]
  },
  {
   "cell_type": "code",
   "execution_count": null,
   "metadata": {
    "id": "21YyvXtInHLa"
   },
   "outputs": [],
   "source": [
    "#Here are the thumbnails used in the slides\n",
    "imageTest = np.array([[4,5,6,7,8],[4,5,8,9,10],[40,50,80,90,100],[43,48,88,92,5]])\n",
    "motifTest = np.array([[4,5,6],[4,5,8],[40,50,80]])"
   ]
  },
  {
   "cell_type": "code",
   "execution_count": null,
   "metadata": {
    "id": "SD-A00donHLa"
   },
   "outputs": [],
   "source": [
    "print(imageTest)\n",
    "print(motifTest)\n",
    "plt.matshow(motifTest)\n",
    "plt.matshow(imageTest)"
   ]
  },
  {
   "cell_type": "markdown",
   "metadata": {
    "id": "OgY2HIjFnHLa"
   },
   "source": [
    "**Question 1:** Write the code of the function *correlationWithoutNorm* which takes as input 2 2d-arrays of values: an image (in grayscale) and a pattern, then output the image of correlations without normalisation."
   ]
  },
  {
   "cell_type": "code",
   "execution_count": null,
   "metadata": {
    "id": "lO-DQmulnHLa"
   },
   "outputs": [],
   "source": [
    "def crossCorrelationWithoutNorm(im, mo):\n",
    "    res = np.zeros_like(im)\n",
    "    him = im.shape[0]\n",
    "    wim = im.shape[1]\n",
    "    hmo = mo.shape[0]\n",
    "    wmo = mo.shape[1]\n",
    "    for i in range(1, him-1):\n",
    "        for j in range(1, wim-1):\n",
    "            res[i][j] = np.sum(im[i-1: i-1 + hmo, j-1: j-1+wmo] * mo)\n",
    "\n",
    "    return res\n"
   ]
  },
  {
   "cell_type": "code",
   "execution_count": null,
   "metadata": {},
   "outputs": [],
   "source": [
    "res = crossCorrelationWithoutNorm(imageTest, motifTest)\n",
    "res"
   ]
  },
  {
   "cell_type": "code",
   "execution_count": null,
   "metadata": {},
   "outputs": [],
   "source": [
    "plt.matshow(res)"
   ]
  },
  {
   "cell_type": "markdown",
   "metadata": {
    "id": "6AGgwVJNnHLa"
   },
   "source": [
    "**Question 2:** Write the code of the function *correlation* which takes as input 2 2d-arrays of values: an image (in grayscale) and a pattern, then output the image of correlations with the normalisations seen in the slides. You can write a naïve implementation."
   ]
  },
  {
   "cell_type": "code",
   "execution_count": null,
   "metadata": {
    "id": "xJD4o4F5nHLb"
   },
   "outputs": [],
   "source": [
    "def crossCorrelation(im, mo):\n",
    "    res = np.zeros_like(im, dtype=float)\n",
    "    him = im.shape[0]\n",
    "    wim = im.shape[1]\n",
    "    hmo = mo.shape[0]\n",
    "    wmo = mo.shape[1]\n",
    "    hmo2, wmo2 = hmo//2, wmo//2\n",
    "    for i in range(hmo2, him-hmo2):\n",
    "        for j in range(wmo2, wim-wmo2):\n",
    "            sub_matrix = np.array(im[i-hmo2: i-hmo2 + hmo, j-wmo2: j-wmo2 + wmo], dtype=float)\n",
    "            res[i][j] = round(np.sum((sub_matrix - np.mean(sub_matrix)) * (mo-np.mean(mo))) / (np.std(sub_matrix)*np.std(mo)*hmo*wmo),2)\n",
    "\n",
    "    return res\n"
   ]
  },
  {
   "cell_type": "markdown",
   "metadata": {
    "id": "YJjxFFSFnHLb"
   },
   "source": [
    "**Question 3:** Test the previous function. Display the results. If necessary, improve the implementation to speed up calculations. It will be possible and perhaps necessary to return to this question later (question 5)."
   ]
  },
  {
   "cell_type": "code",
   "execution_count": null,
   "metadata": {
    "id": "rSrjB19UnHLb"
   },
   "outputs": [],
   "source": [
    "def crossCorrelation2(im, mo):\n",
    "    # Have done it before\n",
    "    return res\n"
   ]
  },
  {
   "cell_type": "code",
   "execution_count": null,
   "metadata": {
    "id": "NlEK317AnHLb"
   },
   "outputs": [],
   "source": [
    "# To test\n",
    "norm_res = crossCorrelation(imageTest, motifTest)\n",
    "norm_res"
   ]
  },
  {
   "cell_type": "markdown",
   "metadata": {
    "id": "b1bQoLRQnHLc"
   },
   "source": [
    "## logo in an image"
   ]
  },
  {
   "cell_type": "markdown",
   "metadata": {
    "id": "5gAXGA3dnHLc"
   },
   "source": [
    "**Question 4:** Select an image with several instances of a pattern and keep the image and a copy of the pattern. Modify the next cell accordingly. Either the images are grayscale, or they need to be converted."
   ]
  },
  {
   "cell_type": "code",
   "execution_count": null,
   "metadata": {
    "id": "3kx7qR5hnHLc"
   },
   "outputs": [],
   "source": [
    "img = io.imread('text.png')\n",
    "logo = io.imread('letter-a.png')\n",
    "#img = io.imread('plaqadmissions.jpg')\n",
    "#logo = io.imread('plaqadmissions-logo.png')"
   ]
  },
  {
   "cell_type": "code",
   "execution_count": null,
   "metadata": {
    "id": "RHUXdk5CnHLc"
   },
   "outputs": [],
   "source": [
    "# conversion in grayscale\n",
    "img = rgb2gray(img[:,:,0:3])\n",
    "logo = rgb2gray(logo[:,:,0:3])"
   ]
  },
  {
   "cell_type": "code",
   "execution_count": null,
   "metadata": {
    "id": "t8-fr2nTnHLc"
   },
   "outputs": [],
   "source": [
    "plt.imshow(img, cmap=plt.cm.gray)"
   ]
  },
  {
   "cell_type": "code",
   "execution_count": null,
   "metadata": {
    "id": "1WT8iWIGnHLd"
   },
   "outputs": [],
   "source": [
    "plt.imshow(logo, cmap=plt.cm.gray)"
   ]
  },
  {
   "cell_type": "markdown",
   "metadata": {
    "id": "xSYdUXNbnHLd"
   },
   "source": [
    "**Question 5:** Compute the correlation map and display it as a warm-color map. If the calculations take too long, return to question 3."
   ]
  },
  {
   "cell_type": "code",
   "execution_count": null,
   "metadata": {
    "id": "GT9qT8yCnHLd"
   },
   "outputs": [],
   "source": [
    "# for you\n",
    "cor_map = crossCorrelation(img, logo)"
   ]
  },
  {
   "cell_type": "code",
   "execution_count": null,
   "metadata": {},
   "outputs": [],
   "source": [
    "plt.imshow(cor_map)"
   ]
  },
  {
   "cell_type": "markdown",
   "metadata": {
    "id": "NxOB6XvWnHLd"
   },
   "source": [
    "**Question 6:** Which max? Where is it?"
   ]
  },
  {
   "cell_type": "code",
   "execution_count": 109,
   "metadata": {
    "id": "m_4vdJIYnHLd"
   },
   "outputs": [
    {
     "name": "stdout",
     "output_type": "stream",
     "text": [
      "Max value is:  1.0\n",
      "with indexes:  [(358, 162), (384, 105), (421, 335), (431, 162), (591, 162), (644, 220), (660, 105), (729, 277), (873, 220), (921, 162), (946, 220), (1105, 220)]\n"
     ]
    }
   ],
   "source": [
    "# for you\n",
    "print(\"Max value is: \", np.nanmax(cor_map))\n",
    "print(\"with indexes: \", list(zip(*np.where(cor_map.T == 1))))"
   ]
  },
  {
   "cell_type": "markdown",
   "metadata": {
    "id": "6jXctZHMnHLd"
   },
   "source": [
    "**Question 7:** Where are the high correlation values? Determine a threshold: 0.5? 0.8? 0.9? Various visualization options are then available:\n",
    "- display the thresholded correlation map transparently on the original image, or\n",
    "- circle the relevant areas on the correlation map or\n",
    "- on the original image."
   ]
  },
  {
   "cell_type": "code",
   "execution_count": 116,
   "metadata": {
    "id": "Bz1Rm6cgnHLd"
   },
   "outputs": [
    {
     "data": {
      "text/plain": [
       "<matplotlib.collections.PathCollection at 0x28a933a5ea0>"
      ]
     },
     "execution_count": 116,
     "metadata": {},
     "output_type": "execute_result"
    },
    {
     "data": {
      "image/png": "[encoded data removed]",
      "text/plain": [
       "<Figure size 640x480 with 1 Axes>"
      ]
     },
     "metadata": {},
     "output_type": "display_data"
    }
   ],
   "source": [
    "# for you\n",
    "cor_map_mask = list(zip(*np.where(cor_map.T > 0.9 )))\n",
    "img_cpy = img.copy()\n",
    "\n",
    "plt.imshow(img_cpy, cmap=plt.cm.gray)\n",
    "plt.scatter(*zip(*cor_map_mask),facecolors='none', edgecolors='r')"
   ]
  }
 ],
 "metadata": {
  "colab": {
   "provenance": []
  },
  "hide_input": false,
  "kernelspec": {
   "display_name": "Python 3",
   "language": "python",
   "name": "python3"
  },
  "language_info": {
   "codemirror_mode": {
    "name": "ipython",
    "version": 3
   },
   "file_extension": ".py",
   "mimetype": "text/x-python",
   "name": "python",
   "nbconvert_exporter": "python",
   "pygments_lexer": "ipython3",
   "version": "3.10.0"
  },
  "latex_envs": {
   "LaTeX_envs_menu_present": true,
   "autoclose": false,
   "autocomplete": true,
   "bibliofile": "biblio.bib",
   "cite_by": "apalike",
   "current_citInitial": 1,
   "eqLabelWithNumbers": true,
   "eqNumInitial": 1,
   "hotkeys": {
    "equation": "Ctrl-E",
    "itemize": "Ctrl-I"
   },
   "labels_anchors": false,
   "latex_user_defs": false,
   "report_style_numbering": false,
   "user_envs_cfg": false
  },
  "varInspector": {
   "cols": {
    "lenName": 16,
    "lenType": 16,
    "lenVar": 40
   },
   "kernels_config": {
    "python": {
     "delete_cmd_postfix": "",
     "delete_cmd_prefix": "del ",
     "library": "var_list.py",
     "varRefreshCmd": "print(var_dic_list())"
    },
    "r": {
     "delete_cmd_postfix": ") ",
     "delete_cmd_prefix": "rm(",
     "library": "var_list.r",
     "varRefreshCmd": "cat(var_dic_list()) "
    }
   },
   "types_to_exclude": [
    "module",
    "function",
    "builtin_function_or_method",
    "instance",
    "_Feature"
   ],
   "window_display": false
  }
 },
 "nbformat": 4,
 "nbformat_minor": 0
}
